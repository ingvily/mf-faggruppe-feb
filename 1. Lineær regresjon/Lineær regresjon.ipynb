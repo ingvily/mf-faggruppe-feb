{
 "cells": [
  {
   "cell_type": "markdown",
   "metadata": {},
   "source": [
    "# Vanlig lineær regresjon"
   ]
  },
  {
   "cell_type": "markdown",
   "metadata": {},
   "source": [
    "Skal predikere lønn for en professor basert på følgende variabler:"
   ]
  },
  {
   "cell_type": "code",
   "execution_count": 30,
   "metadata": {
    "collapsed": false
   },
   "outputs": [],
   "source": [
    "#random,rank,discipline,yrs.since.phd,yrs.service,sex"
   ]
  },
  {
   "cell_type": "code",
   "execution_count": 1,
   "metadata": {
    "collapsed": true
   },
   "outputs": [],
   "source": [
    "import numpy as np\n",
    "import csv\n",
    "import pandas\n",
    "\n",
    "from sklearn import linear_model"
   ]
  },
  {
   "cell_type": "markdown",
   "metadata": {},
   "source": [
    "## Laster inn CSV "
   ]
  },
  {
   "cell_type": "code",
   "execution_count": 19,
   "metadata": {
    "collapsed": false
   },
   "outputs": [],
   "source": [
    "salary_input = np.array(pandas.read_csv('../Data/salary_num.csv', header=None))\n",
    "salary_label = np.array(pandas.read_csv('../Data/salary_response.csv', header=None))\n",
    "salary_example = np.array([0, 0, 1, 1, 1, 1]).reshape((1, -1))"
   ]
  },
  {
   "cell_type": "markdown",
   "metadata": {},
   "source": [
    "## Enkel lineær regresjon med alle prediktorer"
   ]
  },
  {
   "cell_type": "code",
   "execution_count": 21,
   "metadata": {
    "collapsed": false
   },
   "outputs": [],
   "source": [
    "# EKSEMPEL:\n",
    "#reg = linear_model.LinearRegression()\n",
    "#reg.fit(predictors, response)\n",
    "\n",
    "#print(reg.predict(example)) # Prediksjon\n",
    "#print(reg.coef_)"
   ]
  },
  {
   "cell_type": "markdown",
   "metadata": {},
   "source": [
    "**Oppgave 1:** Last inn CSV-ene, del opp i treningsmengde og testmengde, og utfør så lineær regresjon på treningsdataen for å lage en modell som kan predikere lønn. Bruk så modellen for å predikere lønnen til testmengden. Hva blir gjennomsnittsfeilen (mean squared error eller mean absolute error, ettersom du føler for det)?"
   ]
  },
  {
   "cell_type": "markdown",
   "metadata": {},
   "source": [
    "## Valg av prediktorer og regularisering med Elasticnet"
   ]
  },
  {
   "cell_type": "code",
   "execution_count": 22,
   "metadata": {
    "collapsed": true
   },
   "outputs": [],
   "source": [
    "# EKSEMPEL:\n",
    "#elasticnet_reg = linear_model.ElasticNet(alpha = np.std(response))\n",
    "#elasticnet_reg.fit(predictors, response)\n",
    "\n",
    "#print(elasticnet_reg.predict(example))\n",
    "#print(elasticnet_reg.coef_)"
   ]
  },
  {
   "cell_type": "markdown",
   "metadata": {},
   "source": [
    "**Oppgave 2:** Prøv først å fjerne noen prediktorer (fra salary_input) og utfør så lineær regresjon. Prøv med ulike valg, blir resultatet (gjennomsnittsfeilen i lønn) noengang bedre enn med alle prediktorene?\n",
    "\n",
    "Prøv så å utføre regresjonen (på salary_input med *alle* prediktorene) med ElasticNet i stedet for vanlig lineær regresjon. Sammenlign feilen med de forrige forsøkene. Bruk ulike verdier av metaparameteren *alpha* og se hva som skjer. (Standardavviket er en ganske grei default.)"
   ]
  },
  {
   "cell_type": "markdown",
   "metadata": {},
   "source": [
    "# Logistisk regresjon"
   ]
  },
  {
   "cell_type": "markdown",
   "metadata": {},
   "source": [
    "Vi skal nå forutse om en passasjer ville overlevd Titanic-ulykken basert på følgende prediktorer:"
   ]
  },
  {
   "cell_type": "code",
   "execution_count": 29,
   "metadata": {
    "collapsed": true
   },
   "outputs": [],
   "source": [
    "#klasse1,klasse2,klasse3,mann,kvinne,normAlder,normAntallSoskenEktefelle,normSumAntallForeldreBarn"
   ]
  },
  {
   "cell_type": "markdown",
   "metadata": {
    "collapsed": true
   },
   "source": [
    "## Oppsett"
   ]
  },
  {
   "cell_type": "markdown",
   "metadata": {},
   "source": [
    "Laster biblioteker, leser data og deler opp i treningsmengde og testmengde."
   ]
  },
  {
   "cell_type": "code",
   "execution_count": 23,
   "metadata": {
    "collapsed": true
   },
   "outputs": [],
   "source": [
    "import pandas\n",
    "import numpy\n",
    "from sklearn.neural_network import MLPRegressor\n",
    "from sklearn.metrics import mean_squared_error as MSE"
   ]
  },
  {
   "cell_type": "code",
   "execution_count": 32,
   "metadata": {
    "collapsed": true
   },
   "outputs": [],
   "source": [
    "inputs = pandas.read_csv('../Data/titanic_input.csv', header = None)\n",
    "labels = pandas.read_csv('../Data/titanic_label.csv', header = None)\n",
    "\n",
    "titanic_example = [1,0,0,1,0,-0.259,0.76,2.2]"
   ]
  },
  {
   "cell_type": "code",
   "execution_count": 25,
   "metadata": {
    "collapsed": false
   },
   "outputs": [
    {
     "name": "stdout",
     "output_type": "stream",
     "text": [
      "(1308, 8)\n",
      "(1308, 1)\n"
     ]
    }
   ],
   "source": [
    "print (inputs.shape)\n",
    "print (labels.shape)"
   ]
  },
  {
   "cell_type": "code",
   "execution_count": 26,
   "metadata": {
    "collapsed": true
   },
   "outputs": [],
   "source": [
    "inputs_train = inputs[:1000]\n",
    "inputs_test = inputs[1000:]\n",
    "\n",
    "labels_train = labels[:1000]\n",
    "labels_test = labels[1000:]"
   ]
  },
  {
   "cell_type": "code",
   "execution_count": 27,
   "metadata": {
    "collapsed": false
   },
   "outputs": [
    {
     "name": "stdout",
     "output_type": "stream",
     "text": [
      "(308, 8)\n",
      "(308, 1)\n"
     ]
    }
   ],
   "source": [
    "print (inputs_test.shape)\n",
    "print (labels_test.shape)"
   ]
  },
  {
   "cell_type": "markdown",
   "metadata": {},
   "source": [
    "## Lage modellen"
   ]
  },
  {
   "cell_type": "code",
   "execution_count": 31,
   "metadata": {
    "collapsed": true
   },
   "outputs": [],
   "source": [
    "# EKSEMPEL\n",
    "#log_reg = linear_model.LogisticRegression()\n",
    "#log_reg.fit(predictors, labels)\n",
    "\n",
    "#print(log_reg.predict(example))\n",
    "#print(log_reg.coef_)"
   ]
  },
  {
   "cell_type": "markdown",
   "metadata": {},
   "source": [
    "***Oppgave 3:*** Bruk logistisk regresjon til å prøve å forutsi hvorvidt en passasjer overlever Titanic-ulykken. Hva er precision, recall og F1 score her? (Se f.eks. https://en.wikipedia.org/wiki/F1_score)"
   ]
  },
  {
   "cell_type": "markdown",
   "metadata": {},
   "source": [
    "## Interaksjoner"
   ]
  },
  {
   "cell_type": "markdown",
   "metadata": {},
   "source": [
    "**Oppgave 4:** Lag nye kolonner ved å opphøye og gange sammen eksisterende kolonner, f.eks. normAlder\\*normAlder og normAntallSoskenEktefelle\\*normSumAntallForeldreBarn. Hva skjer med resultatene? Virker det fornuftig å gjøre dette her?"
   ]
  },
  {
   "cell_type": "markdown",
   "metadata": {},
   "source": [
    "## Regularisering"
   ]
  },
  {
   "cell_type": "markdown",
   "metadata": {},
   "source": [
    "I scikit-learn utfører LogisticRegression regularisering som standard, tilsvarende Lasso eller Elasticnet! MEN: regulariseringsparameteren er satt til 1.0 som default, som antakelig ikke er den beste verdien."
   ]
  },
  {
   "cell_type": "markdown",
   "metadata": {},
   "source": [
    "**Oppgave 5:** Prøv å endre regulariseringskonstanten *C* til ulike verdier, og se hva som skjer. Merk at her er konstanten invers av tidligere, så en *mindre* konstant gir *sterkere* regularisering."
   ]
  },
  {
   "cell_type": "code",
   "execution_count": null,
   "metadata": {
    "collapsed": true
   },
   "outputs": [],
   "source": []
  }
 ],
 "metadata": {
  "kernelspec": {
   "display_name": "Python 3",
   "language": "python",
   "name": "python3"
  },
  "language_info": {
   "codemirror_mode": {
    "name": "ipython",
    "version": 3
   },
   "file_extension": ".py",
   "mimetype": "text/x-python",
   "name": "python",
   "nbconvert_exporter": "python",
   "pygments_lexer": "ipython3",
   "version": "3.5.2"
  }
 },
 "nbformat": 4,
 "nbformat_minor": 0
}
