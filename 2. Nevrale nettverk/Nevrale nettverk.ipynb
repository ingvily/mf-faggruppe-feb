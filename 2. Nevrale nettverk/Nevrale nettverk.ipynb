{
 "cells": [
  {
   "cell_type": "markdown",
   "metadata": {},
   "source": [
    "# Oppsett"
   ]
  },
  {
   "cell_type": "markdown",
   "metadata": {},
   "source": [
    "## Biblioteker"
   ]
  },
  {
   "cell_type": "code",
   "execution_count": null,
   "metadata": {
    "collapsed": false
   },
   "outputs": [],
   "source": [
    "import pandas\n",
    "import numpy\n",
    "from sklearn.neural_network import MLPRegressor\n",
    "from sklearn.metrics import mean_squared_error as MSE"
   ]
  },
  {
   "cell_type": "markdown",
   "metadata": {},
   "source": [
    "## Les data"
   ]
  },
  {
   "cell_type": "code",
   "execution_count": null,
   "metadata": {
    "collapsed": false
   },
   "outputs": [],
   "source": [
    "inputs = pandas.read_csv('../Data/titanic_input.csv', header = 0)\n",
    "labels = pandas.read_csv('../Data/titanic_label.csv', header = 0)"
   ]
  },
  {
   "cell_type": "code",
   "execution_count": null,
   "metadata": {
    "collapsed": false
   },
   "outputs": [],
   "source": [
    "print (inputs.shape)\n",
    "print (labels.shape)"
   ]
  },
  {
   "cell_type": "markdown",
   "metadata": {},
   "source": [
    "## Genrerer datasett"
   ]
  },
  {
   "cell_type": "code",
   "execution_count": null,
   "metadata": {
    "collapsed": true
   },
   "outputs": [],
   "source": [
    "inputs_train = inputs[:1000]\n",
    "inputs_test = inputs[1000:]\n",
    "\n",
    "labels_train = labels[:1000]\n",
    "labels_test = labels[1000:]"
   ]
  },
  {
   "cell_type": "code",
   "execution_count": null,
   "metadata": {
    "collapsed": false
   },
   "outputs": [],
   "source": [
    "print (inputs_test.shape)\n",
    "print (labels_test.shape)"
   ]
  },
  {
   "cell_type": "code",
   "execution_count": null,
   "metadata": {
    "collapsed": false
   },
   "outputs": [],
   "source": [
    "mlp = MLPRegressor(hidden_layer_sizes=(20), random_state=1, max_iter=1,\n",
    "                   warm_start=True, learning_rate_init =0.001)\n",
    "        "
   ]
  },
  {
   "cell_type": "markdown",
   "metadata": {},
   "source": [
    "## Opprett modell\n",
    "\n",
    "MLPRegressor Multi-layer Perceptron regressor. \n",
    "\n",
    "Dette er modellen vi skal bruke for å bergne sannsynligheten for at en person overlever titanic-ulykken gitt klasse, kjønn, alder, søsken/ektefeller, foreldre/barn.\n",
    "\n",
    "Dokumentasjon for modellen finnes her:\n",
    "http://scikit-learn.org/stable/modules/generated/sklearn.neural_network.MLPRegressor.html\n"
   ]
  },
  {
   "cell_type": "markdown",
   "metadata": {},
   "source": [
    "## Tren modell\n",
    "\n",
    "Modellen trenes nå i 1000 iterasjoner og skriver ut progressjonen undervei, hvor hvert 100 iterasjon.\n",
    "Mean square error blir brukt for å bergne feil.\n",
    "\n",
    "Etter første iterasjon vil det dukke opp en warning. Denne er det bare å ignorere. Her kjøres iterasjonene manuellt, en om gangen. Det er også mulig å spesifisere antall iteasjoner i modellen og droppe for-løkken."
   ]
  },
  {
   "cell_type": "code",
   "execution_count": null,
   "metadata": {
    "collapsed": false
   },
   "outputs": [],
   "source": [
    "for i in range(1000):\n",
    "    mlp.fit(inputs_train, labels_train.values.ravel())\n",
    "    if(i % 100 == 0):\n",
    "        p = mlp.predict(inputs_train);\n",
    "        mse = MSE( labels_train, p)\n",
    "        print (\"Accuarcy\", 1 -mse)"
   ]
  },
  {
   "cell_type": "markdown",
   "metadata": {},
   "source": [
    "## Test modell"
   ]
  },
  {
   "cell_type": "code",
   "execution_count": null,
   "metadata": {
    "collapsed": false
   },
   "outputs": [],
   "source": [
    "p = mlp.predict(inputs_test);\n",
    "mse = MSE( labels_test, p)\n",
    "print (\"Accuarcy\", 1 -mse)"
   ]
  },
  {
   "cell_type": "code",
   "execution_count": null,
   "metadata": {
    "collapsed": false
   },
   "outputs": [],
   "source": [
    "print (p[:50])\n",
    "print (labels_test[:50])"
   ]
  },
  {
   "cell_type": "markdown",
   "metadata": {},
   "source": [
    "# Oppgaver"
   ]
  },
  {
   "cell_type": "markdown",
   "metadata": {},
   "source": [
    "### Oppgave 1\n",
    "\n",
    "Kjør gjennom oppsettet\n",
    "\n"
   ]
  },
  {
   "cell_type": "markdown",
   "metadata": {},
   "source": [
    "### Oppgave 2\n",
    "\n",
    "Eksperimenter med å sette learningrate og antall iterasjoner."
   ]
  },
  {
   "cell_type": "markdown",
   "metadata": {},
   "source": [
    "### Oppgave 3\n",
    "\n",
    "Eksperimenter med sette flere hidden layers og forskjellig antall noder i hvert hidden layers"
   ]
  },
  {
   "cell_type": "markdown",
   "metadata": {},
   "source": [
    "### Oppgave 4\n",
    "\n",
    "Eksperimenter med å sette læringsalgoritme (solver) "
   ]
  },
  {
   "cell_type": "markdown",
   "metadata": {},
   "source": [
    "### Oppgave 5\n",
    "\n",
    "Eksperimenter med å sette activation function\n"
   ]
  },
  {
   "cell_type": "markdown",
   "metadata": {},
   "source": [
    "### Oppgave 6\n",
    "\n",
    "Bruk det du har du har gjort i de andre oppgavene til å oppnå best mulig resultat. "
   ]
  },
  {
   "cell_type": "markdown",
   "metadata": {
    "collapsed": true
   },
   "source": [
    "##  Bonus\n",
    "\n",
    "Prøv å bruk MPLClassifier: http://scikit-learn.org/stable/modules/generated/sklearn.neural_network.MLPClassifier.html#sklearn.neural_network.MLPClassifier for å klassifisere dataen istedenfor. 0 = dør, 1 = overlever"
   ]
  },
  {
   "cell_type": "code",
   "execution_count": null,
   "metadata": {
    "collapsed": true
   },
   "outputs": [],
   "source": []
  }
 ],
 "metadata": {
  "kernelspec": {
   "display_name": "Python 3",
   "language": "python",
   "name": "python3"
  },
  "language_info": {
   "codemirror_mode": {
    "name": "ipython",
    "version": 3
   },
   "file_extension": ".py",
   "mimetype": "text/x-python",
   "name": "python",
   "nbconvert_exporter": "python",
   "pygments_lexer": "ipython3",
   "version": "3.5.2"
  }
 },
 "nbformat": 4,
 "nbformat_minor": 1
}
