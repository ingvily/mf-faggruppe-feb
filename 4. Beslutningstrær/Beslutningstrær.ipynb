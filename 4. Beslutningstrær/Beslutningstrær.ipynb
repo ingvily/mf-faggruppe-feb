{
 "cells": [
  {
   "cell_type": "markdown",
   "metadata": {},
   "source": [
    "# Oppsett"
   ]
  },
  {
   "cell_type": "markdown",
   "metadata": {},
   "source": [
    "### Biblioteker"
   ]
  },
  {
   "cell_type": "code",
   "execution_count": 29,
   "metadata": {
    "collapsed": true
   },
   "outputs": [],
   "source": [
    "import pandas as pd\n",
    "import numpy as np\n",
    "from sklearn.tree import DecisionTreeClassifier\n",
    "from sklearn.metrics import accuracy_score\n",
    "from sklearn.ensemble import RandomForestClassifier"
   ]
  },
  {
   "cell_type": "markdown",
   "metadata": {},
   "source": [
    "### Les data"
   ]
  },
  {
   "cell_type": "code",
   "execution_count": 30,
   "metadata": {
    "collapsed": false
   },
   "outputs": [],
   "source": [
    "input_file = \"../Data/mnist.csv\"\n",
    "df = pd.read_csv(input_file, header = 0)\n",
    "original_headers = list(df.columns.values)\n",
    "\n",
    "all_data = df.as_matrix()"
   ]
  },
  {
   "cell_type": "markdown",
   "metadata": {},
   "source": [
    "### Generer datasett"
   ]
  },
  {
   "cell_type": "code",
   "execution_count": 37,
   "metadata": {
    "collapsed": false
   },
   "outputs": [],
   "source": [
    "np.random.shuffle(all_data)\n",
    "\n",
    "train_data = all_data[:35000]\n",
    "inputs_train = train_data[:,1:]\n",
    "target_train = train_data[:,0]\n",
    "\n",
    "test_data = all_data[35000:]\n",
    "inputs_test = test_data[:,1:]\n",
    "target_test = test_data[:,0]"
   ]
  },
  {
   "cell_type": "markdown",
   "metadata": {},
   "source": [
    "# Beslutningtrær"
   ]
  },
  {
   "cell_type": "markdown",
   "metadata": {},
   "source": [
    "### Opprett modell\n",
    "Vi skal bruke DecisionTreeClassifier, som bygger opp et beslutningstre for klassifisering. \n",
    "\n",
    "Den skal vi bruke for å gjenkjenne håndskrevne tall mellom 0 og 9 på bilder, basert på hvor lys eller mørk en pixel i bildet er. \n",
    "\n",
    "Dokumentasjon for modellen finnes her: http://scikit-learn.org/stable/modules/generated/sklearn.tree.DecisionTreeClassifier.html"
   ]
  },
  {
   "cell_type": "markdown",
   "metadata": {},
   "source": [
    "### Tren modellen"
   ]
  },
  {
   "cell_type": "code",
   "execution_count": 79,
   "metadata": {
    "collapsed": false
   },
   "outputs": [],
   "source": [
    "decisionTree = DecisionTreeClassifier()\n",
    "decisionTree = decisionTree.fit(inputs_train, target_train)"
   ]
  },
  {
   "cell_type": "markdown",
   "metadata": {},
   "source": [
    "### Test modellen\n",
    "For å evaluere modellen bruker vi accuracy_score, som angir hvor mange prosent av testdataen som vi klassifiserte riktig. "
   ]
  },
  {
   "cell_type": "code",
   "execution_count": 80,
   "metadata": {
    "collapsed": false
   },
   "outputs": [
    {
     "name": "stdout",
     "output_type": "stream",
     "text": [
      "0.7635\n"
     ]
    }
   ],
   "source": [
    "decisionTreeOutput = decisionTree.predict(inputs_test)\n",
    "decisionTreeScores = accuracy_score(target_test, decisionTreeOutput)\n",
    "print(decisionTreeScores)"
   ]
  },
  {
   "cell_type": "markdown",
   "metadata": {},
   "source": [
    "## Oppgave 1\n",
    "Kjør gjennom oppsettet"
   ]
  },
  {
   "cell_type": "markdown",
   "metadata": {},
   "source": [
    "## Oppgave 2\n",
    "Eksperimenter med andre måter man kan måle kvaliteten på en splitt av en node (criterion)"
   ]
  },
  {
   "cell_type": "markdown",
   "metadata": {},
   "source": [
    "## Oppgave 3\n",
    "Eskeperimenter med hvordan nodene splittes på. Bruk f.eks. max_features for å si hvor mange features du vil ta hensyn til i hver splitt eller min_sample_split for å bestemme hvor mange datapunkt det må være i en node for at den kan splittes, eller begrens størrelsen på treet med max_depth, min_samples_split og max_leaf_nodes for å begrense overfitting."
   ]
  },
  {
   "cell_type": "markdown",
   "metadata": {},
   "source": [
    "# Random forest"
   ]
  },
  {
   "cell_type": "markdown",
   "metadata": {},
   "source": [
    "### Opprett modell\n",
    "Random forest konstuerer flere beslutnignstrær basert på datasettet vårt og bygger en modell som bruker gjennomsnittet av resultatene fra trærne for å klassifisere hvilket tall bildet illustrerer. \n",
    "\n",
    "Vi skal bruke RandomForestClassifier, dokumentasjonen finner du her: http://scikit-learn.org/stable/modules/generated/sklearn.ensemble.RandomForestClassifier.html"
   ]
  },
  {
   "cell_type": "markdown",
   "metadata": {},
   "source": [
    "### Tren modellen"
   ]
  },
  {
   "cell_type": "code",
   "execution_count": 81,
   "metadata": {
    "collapsed": false
   },
   "outputs": [],
   "source": [
    "randomForest = RandomForestClassifier()\n",
    "randomForest = randomForest.fit(inputs_train, target_train)"
   ]
  },
  {
   "cell_type": "markdown",
   "metadata": {},
   "source": [
    "### Test modellen"
   ]
  },
  {
   "cell_type": "code",
   "execution_count": 82,
   "metadata": {
    "collapsed": false
   },
   "outputs": [
    {
     "name": "stdout",
     "output_type": "stream",
     "text": [
      "0.875\n"
     ]
    }
   ],
   "source": [
    "randomForestOutput = randomForest.predict(inputs_test)\n",
    "randomForestScores = accuracy_score(target_test, randomForestOutput)\n",
    "print(randomForestScores)"
   ]
  },
  {
   "cell_type": "markdown",
   "metadata": {},
   "source": [
    "## Oppgave 4\n",
    "Kjør gjennom oppsettet for random forest"
   ]
  },
  {
   "cell_type": "markdown",
   "metadata": {},
   "source": [
    "## Oppgave 5\n",
    "Eksperimenter med ulike verdier for antall trær som genereres i skogen (n_estimators)"
   ]
  },
  {
   "cell_type": "markdown",
   "metadata": {},
   "source": [
    "## Oppgave 6\n",
    "Bruk det du lærte i oppgave 2-5 for å gjøre modellen best mulig (Mange av de samme parametrene vi bruke i DecisionTreeClassifier er også gyldige for RandomForestClassifier)"
   ]
  },
  {
   "cell_type": "markdown",
   "metadata": {},
   "source": [
    "## Oppgave 7\n",
    "Se hvor stor driver hver feature er i klassifiseringen (feature_importances_)"
   ]
  },
  {
   "cell_type": "markdown",
   "metadata": {},
   "source": [
    "# Bonus\n",
    "Random forest er bare én av mange måter man kan kombinere flere beslutningstrær på. Eksperimenter gjerne med andre såkalte ensemble-metoder, f.eks. GradientBoostingClassifier."
   ]
  }
 ],
 "metadata": {
  "kernelspec": {
   "display_name": "Python 3",
   "language": "python",
   "name": "python3"
  },
  "language_info": {
   "codemirror_mode": {
    "name": "ipython",
    "version": 3
   },
   "file_extension": ".py",
   "mimetype": "text/x-python",
   "name": "python",
   "nbconvert_exporter": "python",
   "pygments_lexer": "ipython3",
   "version": "3.5.2"
  }
 },
 "nbformat": 4,
 "nbformat_minor": 0
}
